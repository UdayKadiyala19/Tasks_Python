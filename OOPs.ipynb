{
 "cells": [
  {
   "cell_type": "code",
   "execution_count": 1,
   "id": "a79194ac",
   "metadata": {},
   "outputs": [],
   "source": [
    "class bank:\n",
    "    '''This is the application created by 251-252 batch'''\n",
    "    #actions\n",
    "    def __init__(self,name,number,ifsc,branch,balance):\n",
    "        self.name = name\n",
    "        self.number = number\n",
    "        self.ifsc = ifsc\n",
    "        self.branch = branch\n",
    "        self.balance = balance\n",
    "        \n",
    "    #Methods\n",
    "    \n",
    "    def deposit(self):\n",
    "        amount = int(input(\"Enter the amount to deposit:: \"))\n",
    "        if amount > 500000:\n",
    "            print(\"the amount exceed the limit\")\n",
    "        else:\n",
    "            self.balance = self.balance + amount\n",
    "            print(\"The amount deposited successfully\")\n",
    "\n",
    "    def withdraw(self):\n",
    "        '''Please enter amount in integers to withdraw '''\n",
    "        amount = int(input(\"Enter the amount to withdraw:: \"))\n",
    "        if amount > self.balance:\n",
    "            print(\"Insufficient balance in your account\")\n",
    "        else:\n",
    "            self.balance = self.balance-amount\n",
    "            print(\"Take the cash\")\n",
    "\n",
    "    def checkbal(self):\n",
    "        print(f\"Your balance is {self.balance}\")"
   ]
  },
  {
   "cell_type": "code",
   "execution_count": 2,
   "id": "e0a33101",
   "metadata": {},
   "outputs": [],
   "source": [
    "sathish= bank(\"Sathish Vanga\",123456789,\"jhdgsd\",\"JNTU\",100000)"
   ]
  },
  {
   "cell_type": "code",
   "execution_count": 3,
   "id": "2ff41484",
   "metadata": {},
   "outputs": [
    {
     "data": {
      "text/plain": [
       "'Sathish Vanga'"
      ]
     },
     "execution_count": 3,
     "metadata": {},
     "output_type": "execute_result"
    }
   ],
   "source": [
    "sathish.name"
   ]
  },
  {
   "cell_type": "code",
   "execution_count": 4,
   "id": "07c5af17",
   "metadata": {},
   "outputs": [
    {
     "data": {
      "text/plain": [
       "123456789"
      ]
     },
     "execution_count": 4,
     "metadata": {},
     "output_type": "execute_result"
    }
   ],
   "source": [
    "sathish.number"
   ]
  },
  {
   "cell_type": "code",
   "execution_count": 5,
   "id": "3573a8d8",
   "metadata": {},
   "outputs": [
    {
     "data": {
      "text/plain": [
       "'jhdgsd'"
      ]
     },
     "execution_count": 5,
     "metadata": {},
     "output_type": "execute_result"
    }
   ],
   "source": [
    "sathish.ifsc"
   ]
  },
  {
   "cell_type": "code",
   "execution_count": 33,
   "id": "73ea6efc",
   "metadata": {},
   "outputs": [
    {
     "data": {
      "text/plain": [
       "'JNTU'"
      ]
     },
     "execution_count": 33,
     "metadata": {},
     "output_type": "execute_result"
    }
   ],
   "source": [
    "sathish.branch"
   ]
  },
  {
   "cell_type": "code",
   "execution_count": 6,
   "id": "813a9d64",
   "metadata": {},
   "outputs": [
    {
     "name": "stdout",
     "output_type": "stream",
     "text": [
      "Enter the amount to deposit:: 40000\n",
      "The amount deposited successfully\n"
     ]
    }
   ],
   "source": [
    "sathish.deposit()"
   ]
  },
  {
   "cell_type": "code",
   "execution_count": 7,
   "id": "464d7046",
   "metadata": {},
   "outputs": [
    {
     "name": "stdout",
     "output_type": "stream",
     "text": [
      "Your balance is 140000\n"
     ]
    }
   ],
   "source": [
    "sathish.checkbal()"
   ]
  },
  {
   "cell_type": "code",
   "execution_count": 36,
   "id": "03266eda",
   "metadata": {},
   "outputs": [
    {
     "name": "stdout",
     "output_type": "stream",
     "text": [
      "Enter the amount to withdraw:: 400000000\n",
      "Insufficient balance in your account\n"
     ]
    }
   ],
   "source": [
    "sathish.withdraw()"
   ]
  },
  {
   "cell_type": "code",
   "execution_count": 37,
   "id": "da01a4ee",
   "metadata": {},
   "outputs": [
    {
     "name": "stdout",
     "output_type": "stream",
     "text": [
      "Your balance is 100000\n"
     ]
    }
   ],
   "source": [
    "sathish.checkbal()"
   ]
  },
  {
   "cell_type": "markdown",
   "id": "ffd8225d",
   "metadata": {},
   "source": [
    "### single Inheritance"
   ]
  },
  {
   "cell_type": "code",
   "execution_count": 7,
   "id": "92fb8bab",
   "metadata": {},
   "outputs": [],
   "source": [
    "class parent:\n",
    "    def m1(self):\n",
    "        print(\"I am parent\")\n",
    "class child(parent):\n",
    "    def m2(self):\n",
    "        print(\"I am child\")"
   ]
  },
  {
   "cell_type": "code",
   "execution_count": 7,
   "id": "c54cf56e",
   "metadata": {},
   "outputs": [],
   "source": [
    "b= child()"
   ]
  },
  {
   "cell_type": "code",
   "execution_count": 8,
   "id": "6c24fddc",
   "metadata": {},
   "outputs": [
    {
     "name": "stdout",
     "output_type": "stream",
     "text": [
      "I am parent\n"
     ]
    }
   ],
   "source": [
    "b.m1()"
   ]
  },
  {
   "cell_type": "code",
   "execution_count": 9,
   "id": "a62060d4",
   "metadata": {},
   "outputs": [
    {
     "name": "stdout",
     "output_type": "stream",
     "text": [
      "I am child\n"
     ]
    }
   ],
   "source": [
    "b.m2()"
   ]
  },
  {
   "cell_type": "markdown",
   "id": "46a4d1fd",
   "metadata": {},
   "source": [
    "### Multiple Inheritance"
   ]
  },
  {
   "cell_type": "code",
   "execution_count": 10,
   "id": "25761cb9",
   "metadata": {},
   "outputs": [],
   "source": [
    "class father:\n",
    "    def m1(self):\n",
    "        print(\"I am father\")\n",
    "class mother:\n",
    "    def m2(self):\n",
    "        print(\"I am mother\")\n",
    "class child(father,mother):\n",
    "    def m3(self):\n",
    "        print(\"I am child\")"
   ]
  },
  {
   "cell_type": "code",
   "execution_count": 11,
   "id": "c8fdc917",
   "metadata": {},
   "outputs": [],
   "source": [
    "a= child()"
   ]
  },
  {
   "cell_type": "code",
   "execution_count": 12,
   "id": "5444a72a",
   "metadata": {},
   "outputs": [
    {
     "name": "stdout",
     "output_type": "stream",
     "text": [
      "I am father\n"
     ]
    }
   ],
   "source": [
    "a.m1()"
   ]
  },
  {
   "cell_type": "code",
   "execution_count": 13,
   "id": "0ee5ba23",
   "metadata": {},
   "outputs": [
    {
     "name": "stdout",
     "output_type": "stream",
     "text": [
      "I am mother\n"
     ]
    }
   ],
   "source": [
    "a.m2()"
   ]
  },
  {
   "cell_type": "code",
   "execution_count": 14,
   "id": "9016e20d",
   "metadata": {},
   "outputs": [
    {
     "name": "stdout",
     "output_type": "stream",
     "text": [
      "I am child\n"
     ]
    }
   ],
   "source": [
    "a.m3()"
   ]
  },
  {
   "cell_type": "markdown",
   "id": "ab058d9d",
   "metadata": {},
   "source": [
    "### Multilevel Inheritance"
   ]
  },
  {
   "cell_type": "code",
   "execution_count": 15,
   "id": "b3371692",
   "metadata": {},
   "outputs": [],
   "source": [
    "class grandparent:\n",
    "    def m1(self):\n",
    "        print(\"I am grandparent\")\n",
    "class father(grandparent):\n",
    "    def m2(self):\n",
    "        print(\"I am father\")\n",
    "class child(father):\n",
    "    def m3(self):\n",
    "        print(\"I am child\")"
   ]
  },
  {
   "cell_type": "code",
   "execution_count": 16,
   "id": "0b4b2157",
   "metadata": {},
   "outputs": [],
   "source": [
    "c= child()"
   ]
  },
  {
   "cell_type": "code",
   "execution_count": 17,
   "id": "cd05307e",
   "metadata": {},
   "outputs": [
    {
     "name": "stdout",
     "output_type": "stream",
     "text": [
      "I am grandparent\n"
     ]
    }
   ],
   "source": [
    "c.m1()"
   ]
  },
  {
   "cell_type": "code",
   "execution_count": 18,
   "id": "6bc37347",
   "metadata": {},
   "outputs": [
    {
     "name": "stdout",
     "output_type": "stream",
     "text": [
      "I am father\n"
     ]
    }
   ],
   "source": [
    "c.m2()"
   ]
  },
  {
   "cell_type": "code",
   "execution_count": 19,
   "id": "7d6024c5",
   "metadata": {},
   "outputs": [
    {
     "name": "stdout",
     "output_type": "stream",
     "text": [
      "I am child\n"
     ]
    }
   ],
   "source": [
    "c.m3()"
   ]
  },
  {
   "cell_type": "markdown",
   "id": "a49e2568",
   "metadata": {},
   "source": [
    "### Hirarchy Inheritance"
   ]
  },
  {
   "cell_type": "code",
   "execution_count": 20,
   "id": "007b6b17",
   "metadata": {},
   "outputs": [],
   "source": [
    "class parent:\n",
    "    def m1(self):\n",
    "        print(\"I am parent\")\n",
    "class child1(parent):\n",
    "    def m2(self):\n",
    "        print(\"I am child1\")\n",
    "class child2(parent):\n",
    "    def m2(self):\n",
    "        print(\"I am child2\")"
   ]
  },
  {
   "cell_type": "code",
   "execution_count": 21,
   "id": "f9b1c46e",
   "metadata": {},
   "outputs": [],
   "source": [
    "ch1=child1()"
   ]
  },
  {
   "cell_type": "code",
   "execution_count": 22,
   "id": "135693bc",
   "metadata": {},
   "outputs": [
    {
     "name": "stdout",
     "output_type": "stream",
     "text": [
      "I am parent\n"
     ]
    }
   ],
   "source": [
    "ch1.m1()"
   ]
  },
  {
   "cell_type": "code",
   "execution_count": 23,
   "id": "569d0771",
   "metadata": {},
   "outputs": [
    {
     "name": "stdout",
     "output_type": "stream",
     "text": [
      "I am child1\n"
     ]
    }
   ],
   "source": [
    "ch1.m2()"
   ]
  },
  {
   "cell_type": "code",
   "execution_count": 24,
   "id": "1146042b",
   "metadata": {},
   "outputs": [],
   "source": [
    "ch2=child2()"
   ]
  },
  {
   "cell_type": "code",
   "execution_count": 25,
   "id": "2e3e3e15",
   "metadata": {},
   "outputs": [
    {
     "name": "stdout",
     "output_type": "stream",
     "text": [
      "I am parent\n"
     ]
    }
   ],
   "source": [
    "ch2.m1()"
   ]
  },
  {
   "cell_type": "code",
   "execution_count": 26,
   "id": "4a9e5b25",
   "metadata": {},
   "outputs": [
    {
     "name": "stdout",
     "output_type": "stream",
     "text": [
      "I am child2\n"
     ]
    }
   ],
   "source": [
    "ch2.m2()"
   ]
  },
  {
   "cell_type": "markdown",
   "id": "e202f100",
   "metadata": {},
   "source": [
    "### Hybrid Inheritance"
   ]
  },
  {
   "cell_type": "code",
   "execution_count": 28,
   "id": "69247231",
   "metadata": {},
   "outputs": [],
   "source": [
    "class grandparent:\n",
    "    def m1(self):\n",
    "        print(\"I am grandparent\")\n",
    "        \n",
    "class father(grandparent):\n",
    "    def m2(self):\n",
    "        print(\"I am father\")\n",
    "        \n",
    "class mother:\n",
    "    def m3(self):\n",
    "        print(\"I am mother\")\n",
    "\n",
    "class child(father,mother):\n",
    "    def m(self):\n",
    "        print(\"I am child\")"
   ]
  },
  {
   "cell_type": "code",
   "execution_count": 29,
   "id": "a431b800",
   "metadata": {},
   "outputs": [],
   "source": [
    "c= child()"
   ]
  },
  {
   "cell_type": "code",
   "execution_count": 30,
   "id": "9f2e8eca",
   "metadata": {},
   "outputs": [
    {
     "name": "stdout",
     "output_type": "stream",
     "text": [
      "I am child\n"
     ]
    }
   ],
   "source": [
    "c.m()"
   ]
  },
  {
   "cell_type": "code",
   "execution_count": 31,
   "id": "fbbe62c5",
   "metadata": {},
   "outputs": [
    {
     "name": "stdout",
     "output_type": "stream",
     "text": [
      "I am grandparent\n"
     ]
    }
   ],
   "source": [
    "c.m1()"
   ]
  },
  {
   "cell_type": "code",
   "execution_count": 32,
   "id": "53d1b723",
   "metadata": {},
   "outputs": [
    {
     "name": "stdout",
     "output_type": "stream",
     "text": [
      "I am father\n"
     ]
    }
   ],
   "source": [
    "c.m2()"
   ]
  },
  {
   "cell_type": "code",
   "execution_count": 33,
   "id": "204c2523",
   "metadata": {},
   "outputs": [
    {
     "name": "stdout",
     "output_type": "stream",
     "text": [
      "I am mother\n"
     ]
    }
   ],
   "source": [
    "c.m3()"
   ]
  },
  {
   "cell_type": "code",
   "execution_count": 44,
   "id": "f0293249",
   "metadata": {},
   "outputs": [],
   "source": [
    "class faculty:\n",
    "    ''' This class explains about faculty details'''\n",
    "    \n",
    "    def __init__(self,firstname,lastname,branch,empID,exp,phone,adress,salary):\n",
    "        self.firstname = firstname\n",
    "        self.lastname = lastname\n",
    "        self.branch = branch\n",
    "        self.empID = empID\n",
    "        self.exp = exp\n",
    "        self.phone = phone\n",
    "        self.adress = adress\n",
    "        self.salary = salary\n",
    "    \n",
    "    def details(self):\n",
    "        print(self.lastname + ' ' + self.firstname)\n",
    "    \n",
    "    def changeadress(self):\n",
    "        self.adress = input(\"Enter the new adress:: \")\n",
    "        print(f\"The adress is changed to {self.adress}\")\n",
    "        \n",
    "    def changephone(self):\n",
    "        self.phone = int(input(\"Enter the new phone number :: \"))\n",
    "        print(\"The phone number is changed sucessfully\")\n",
    "    \n",
    "    def getsalary(self):\n",
    "        print(f'your current salary is {self.salary}')\n",
    "        \n",
    "        \n",
    "        \n",
    "class student:\n",
    "    ''' This class explains about student details'''\n",
    "    \n",
    "    def __init__(self,firstname,lastname,branch,studentID,phone,adress,grade):\n",
    "        self.firstname = firstname\n",
    "        self.lastname = lastname\n",
    "        self.branch = branch\n",
    "        self.studentID = studentID\n",
    "        self.phone = phone\n",
    "        self.adress = adress\n",
    "        self.grade = grade\n",
    "    \n",
    "    def details(self):\n",
    "        print(self.lastname + ' ' + self.firstname)\n",
    "    \n",
    "    def changeadress(self):\n",
    "        self.adress = input(\"Enter the new adress:: \")\n",
    "        print(f\"The adress is changed to {self.adress}\")\n",
    "        \n",
    "    def changephone(self):\n",
    "        self.phone = int(input(\"Enter the new phone number :: \"))\n",
    "        print(\"The phone number is changed sucessfully\")\n",
    "    \n",
    "    def grade(self):\n",
    "        print(f'your current salary is {self.grade}')"
   ]
  },
  {
   "cell_type": "code",
   "execution_count": 46,
   "id": "6b0df950",
   "metadata": {},
   "outputs": [],
   "source": [
    "f= faculty(\"uday\",\"kadiyala\",\"Data analytics\",\"19n31A2139\",4,8008926389,\"Khammam\",7000000)\n",
    "s= student(\"Sathish\",\"vanga\",\"Mca\",\"sathish123\",890000000,\"jagtial\",'A')"
   ]
  },
  {
   "cell_type": "code",
   "execution_count": 38,
   "id": "2597eaf5",
   "metadata": {},
   "outputs": [
    {
     "data": {
      "text/plain": [
       "'uday'"
      ]
     },
     "execution_count": 38,
     "metadata": {},
     "output_type": "execute_result"
    }
   ],
   "source": [
    "f.firstname"
   ]
  },
  {
   "cell_type": "code",
   "execution_count": 40,
   "id": "a9036942",
   "metadata": {},
   "outputs": [
    {
     "name": "stdout",
     "output_type": "stream",
     "text": [
      "kadiyala uday\n"
     ]
    }
   ],
   "source": [
    "f.details()"
   ]
  },
  {
   "cell_type": "code",
   "execution_count": 41,
   "id": "aa74e8a1",
   "metadata": {},
   "outputs": [
    {
     "name": "stdout",
     "output_type": "stream",
     "text": [
      "Enter the new adress:: Hydaerabad\n",
      "The adress is changed to Hydaerabad\n"
     ]
    }
   ],
   "source": [
    "f.changeadress()"
   ]
  },
  {
   "cell_type": "code",
   "execution_count": 43,
   "id": "c8fba308",
   "metadata": {},
   "outputs": [
    {
     "data": {
      "text/plain": [
       "'Hydaerabad'"
      ]
     },
     "execution_count": 43,
     "metadata": {},
     "output_type": "execute_result"
    }
   ],
   "source": [
    "f.adress"
   ]
  },
  {
   "cell_type": "code",
   "execution_count": 48,
   "id": "5089abfa",
   "metadata": {},
   "outputs": [
    {
     "name": "stdout",
     "output_type": "stream",
     "text": [
      "vanga Sathish\n"
     ]
    }
   ],
   "source": [
    "s.details()"
   ]
  },
  {
   "cell_type": "code",
   "execution_count": 49,
   "id": "02cdd83e",
   "metadata": {},
   "outputs": [
    {
     "data": {
      "text/plain": [
       "'sathish123'"
      ]
     },
     "execution_count": 49,
     "metadata": {},
     "output_type": "execute_result"
    }
   ],
   "source": [
    "s.studentID"
   ]
  },
  {
   "cell_type": "code",
   "execution_count": 2,
   "id": "213b8760",
   "metadata": {},
   "outputs": [],
   "source": [
    "class member:\n",
    "    ''' This class explains about faculty details'''\n",
    "    \n",
    "    def __init__(self,firstname,lastname,branch,memberID,year,phone,adress):\n",
    "        self.firstname = firstname\n",
    "        self.lastname = lastname\n",
    "        self.branch = branch\n",
    "        self.memberID = memberID\n",
    "        self.year = year\n",
    "        self.phone = phone\n",
    "        self.adress = adress\n",
    "    \n",
    "    def details(self):\n",
    "        print(self.lastname + ' ' + self.firstname)\n",
    "    \n",
    "    def changeadress(self):\n",
    "        self.adress = input(\"Enter the new adress:: \")\n",
    "        print(f\"The adress is changed to {self.adress}\")\n",
    "        \n",
    "    def changephone(self):\n",
    "        self.phone = int(input(\"Enter the new phone number :: \"))\n",
    "        print(\"The phone number is changed sucessfully\")"
   ]
  },
  {
   "cell_type": "code",
   "execution_count": 3,
   "id": "88a202dc",
   "metadata": {},
   "outputs": [],
   "source": [
    "class faculty(member):\n",
    "    ''' This class explains about faculty details'''\n",
    "\n",
    "    \n",
    "    def __init__(self,firstname,lastname,branch,memberID,year,phone,adress,salary):\n",
    "        self.salary = salary\n",
    "        member.__init__(self,firstname,lastname,branch,memberID,year,phone,adress)\n",
    "    \n",
    "    def getsalary(self):\n",
    "        print(f'your current salary is {self.salary}')"
   ]
  },
  {
   "cell_type": "code",
   "execution_count": 4,
   "id": "6d71368b",
   "metadata": {},
   "outputs": [],
   "source": [
    "class student(member):\n",
    "    ''' This class explains about student details'''\n",
    "    \n",
    "    def __init__(self,firstname,lastname,branch,memberID,year,phone,adress,grade):\n",
    "        self.grade = grade\n",
    "        member.__init__(self,firstname,lastname,branch,memberID,year,phone,adress)\n",
    "    \n",
    "    def getgrade(self):\n",
    "        print(f'your current salary is {self.grade}')"
   ]
  },
  {
   "cell_type": "code",
   "execution_count": 5,
   "id": "70547728",
   "metadata": {},
   "outputs": [],
   "source": [
    "st= student(\"uday\",\"k\",\"csv\",\"123hbhj\",3,9009090909,\"hyd\",\"A\")"
   ]
  },
  {
   "cell_type": "code",
   "execution_count": 6,
   "id": "448c3554",
   "metadata": {},
   "outputs": [
    {
     "data": {
      "text/plain": [
       "'A'"
      ]
     },
     "execution_count": 6,
     "metadata": {},
     "output_type": "execute_result"
    }
   ],
   "source": [
    "st.grade"
   ]
  },
  {
   "cell_type": "markdown",
   "id": "9292def7",
   "metadata": {},
   "source": [
    "### Polymorphism"
   ]
  },
  {
   "cell_type": "markdown",
   "id": "ffa4646b",
   "metadata": {},
   "source": [
    "### Overloading"
   ]
  },
  {
   "cell_type": "markdown",
   "id": "92e21dae",
   "metadata": {},
   "source": [
    "### Operating Overloading"
   ]
  },
  {
   "cell_type": "code",
   "execution_count": 1,
   "id": "73aa4f27",
   "metadata": {},
   "outputs": [],
   "source": [
    "class book:\n",
    "    def __init__(self,pages):\n",
    "        self.pages=pages\n",
    "        \n",
    "    def __add__(self,other):\n",
    "        return self.pages+other.pages"
   ]
  },
  {
   "cell_type": "code",
   "execution_count": 9,
   "id": "5aab5c91",
   "metadata": {},
   "outputs": [],
   "source": [
    "b1= book(200)"
   ]
  },
  {
   "cell_type": "code",
   "execution_count": 10,
   "id": "7b7053e2",
   "metadata": {},
   "outputs": [],
   "source": [
    "b2= book(100)"
   ]
  },
  {
   "cell_type": "code",
   "execution_count": 11,
   "id": "7d0493a1",
   "metadata": {},
   "outputs": [
    {
     "data": {
      "text/plain": [
       "300"
      ]
     },
     "execution_count": 11,
     "metadata": {},
     "output_type": "execute_result"
    }
   ],
   "source": [
    "b1+b2"
   ]
  },
  {
   "cell_type": "code",
   "execution_count": 12,
   "id": "6a6b581d",
   "metadata": {},
   "outputs": [],
   "source": [
    "b1= book(\"Hello\")\n",
    "b2= book(\"world\")"
   ]
  },
  {
   "cell_type": "code",
   "execution_count": 13,
   "id": "a647d385",
   "metadata": {},
   "outputs": [
    {
     "data": {
      "text/plain": [
       "'Helloworld'"
      ]
     },
     "execution_count": 13,
     "metadata": {},
     "output_type": "execute_result"
    }
   ],
   "source": [
    "b1+b2"
   ]
  },
  {
   "cell_type": "markdown",
   "id": "ff5e2243",
   "metadata": {},
   "source": [
    "### Method Overloading\n",
    "\n",
    "\n",
    "* By default python does not support method overloading but we can explicitly make method overloading in python using multipledispatch module"
   ]
  },
  {
   "cell_type": "code",
   "execution_count": 15,
   "id": "8249b037",
   "metadata": {},
   "outputs": [
    {
     "name": "stdout",
     "output_type": "stream",
     "text": [
      "Collecting multipledispatch\n",
      "  Obtaining dependency information for multipledispatch from https://files.pythonhosted.org/packages/51/c0/00c9809d8b9346eb238a6bbd5f83e846a4ce4503da94a4c08cb7284c325b/multipledispatch-1.0.0-py3-none-any.whl.metadata\n",
      "  Downloading multipledispatch-1.0.0-py3-none-any.whl.metadata (3.8 kB)\n",
      "Downloading multipledispatch-1.0.0-py3-none-any.whl (12 kB)\n",
      "Installing collected packages: multipledispatch\n",
      "Successfully installed multipledispatch-1.0.0\n"
     ]
    }
   ],
   "source": [
    "!pip install multipledispatch"
   ]
  },
  {
   "cell_type": "code",
   "execution_count": 16,
   "id": "5003d7fb",
   "metadata": {},
   "outputs": [],
   "source": [
    "import multipledispatch"
   ]
  },
  {
   "cell_type": "code",
   "execution_count": 22,
   "id": "a678318e",
   "metadata": {},
   "outputs": [],
   "source": [
    "class addition:\n",
    "    \n",
    "    @multipledispatch.dispatch(str)\n",
    "    def add(self,a):\n",
    "        self.a= a\n",
    "        return self.a\n",
    "    \n",
    "    @multipledispatch.dispatch(str,str)\n",
    "    def add(self,a,b):\n",
    "        self.a= a\n",
    "        self.b= b \n",
    "        return self.a + self.b\n",
    "    \n",
    "    @multipledispatch.dispatch(str,str,str)\n",
    "    def add(self,a,b,c):\n",
    "        self.a= a\n",
    "        self.b= b\n",
    "        self.c= c\n",
    "        return self.a+self.b+self.c"
   ]
  },
  {
   "cell_type": "code",
   "execution_count": 23,
   "id": "369dd25b",
   "metadata": {},
   "outputs": [],
   "source": [
    "d= addition()"
   ]
  },
  {
   "cell_type": "code",
   "execution_count": 25,
   "id": "0258c745",
   "metadata": {},
   "outputs": [
    {
     "data": {
      "text/plain": [
       "'Uday kadiyala'"
      ]
     },
     "execution_count": 25,
     "metadata": {},
     "output_type": "execute_result"
    }
   ],
   "source": [
    "d.add(\"Uday\",\" kadiyala\")"
   ]
  },
  {
   "cell_type": "code",
   "execution_count": 26,
   "id": "b35c2b9e",
   "metadata": {},
   "outputs": [],
   "source": []
  },
  {
   "cell_type": "markdown",
   "id": "62b5a947",
   "metadata": {},
   "source": [
    "### Method Overrinding"
   ]
  },
  {
   "cell_type": "code",
   "execution_count": 30,
   "id": "43bf6cd4",
   "metadata": {},
   "outputs": [],
   "source": [
    "# Method 1 for method overloading\n",
    "\n",
    "class parent:\n",
    "    def m1(self):\n",
    "        print(\"This is parent class \")\n",
    "        \n",
    "class child(parent):\n",
    "    \n",
    "    def m1(self):\n",
    "        super().m1()\n",
    "        print(\"This is child class\")"
   ]
  },
  {
   "cell_type": "code",
   "execution_count": 31,
   "id": "5cc4b356",
   "metadata": {},
   "outputs": [],
   "source": [
    "d= child()"
   ]
  },
  {
   "cell_type": "code",
   "execution_count": 32,
   "id": "cebf5d8a",
   "metadata": {},
   "outputs": [
    {
     "name": "stdout",
     "output_type": "stream",
     "text": [
      "This is parent class \n",
      "This is child class\n"
     ]
    }
   ],
   "source": [
    "d.m1()"
   ]
  },
  {
   "cell_type": "code",
   "execution_count": 33,
   "id": "3b60d895",
   "metadata": {},
   "outputs": [],
   "source": [
    "# Method 2 for method overloading\n",
    "\n",
    "class parent:\n",
    "    def m1(self):\n",
    "        print(\"This is parent class \")\n",
    "        \n",
    "class child(parent):\n",
    "    \n",
    "    def m1(self):\n",
    "        parent.m1(self)\n",
    "        print(\"This is child class\")"
   ]
  },
  {
   "cell_type": "code",
   "execution_count": 34,
   "id": "74c32ada",
   "metadata": {},
   "outputs": [],
   "source": [
    "d= child()"
   ]
  },
  {
   "cell_type": "code",
   "execution_count": 36,
   "id": "9c6ac7ff",
   "metadata": {},
   "outputs": [
    {
     "name": "stdout",
     "output_type": "stream",
     "text": [
      "This is parent class \n",
      "This is child class\n"
     ]
    }
   ],
   "source": [
    "d.m1()"
   ]
  },
  {
   "cell_type": "code",
   "execution_count": 1,
   "id": "d27f53a3",
   "metadata": {},
   "outputs": [],
   "source": [
    "class A:\n",
    "    data= 100\n",
    "    def m(self):   #public specifier\n",
    "        print(self.data)\n",
    "class B(A):\n",
    "    def m1(self):\n",
    "        print(self.data)"
   ]
  },
  {
   "cell_type": "code",
   "execution_count": 2,
   "id": "6e5749e0",
   "metadata": {},
   "outputs": [],
   "source": [
    "a= B()"
   ]
  },
  {
   "cell_type": "code",
   "execution_count": 4,
   "id": "ec9bbb35",
   "metadata": {},
   "outputs": [
    {
     "name": "stdout",
     "output_type": "stream",
     "text": [
      "100\n"
     ]
    }
   ],
   "source": [
    "a.m()"
   ]
  },
  {
   "cell_type": "code",
   "execution_count": 5,
   "id": "2f99ce0e",
   "metadata": {},
   "outputs": [],
   "source": [
    "c=B()"
   ]
  },
  {
   "cell_type": "code",
   "execution_count": 6,
   "id": "3c8ce1b4",
   "metadata": {},
   "outputs": [
    {
     "name": "stdout",
     "output_type": "stream",
     "text": [
      "100\n"
     ]
    }
   ],
   "source": [
    "c.m1()"
   ]
  },
  {
   "cell_type": "code",
   "execution_count": 10,
   "id": "cf959b97",
   "metadata": {},
   "outputs": [
    {
     "data": {
      "text/plain": [
       "100"
      ]
     },
     "execution_count": 10,
     "metadata": {},
     "output_type": "execute_result"
    }
   ],
   "source": [
    "c.data"
   ]
  },
  {
   "cell_type": "code",
   "execution_count": 7,
   "id": "7b37054e",
   "metadata": {},
   "outputs": [],
   "source": [
    "class A:\n",
    "    _data= 100\n",
    "    def m(self):   #protected specifier\n",
    "        print(self._data)\n",
    "class B(A):\n",
    "    def m1(self):\n",
    "        print(self._data)"
   ]
  },
  {
   "cell_type": "code",
   "execution_count": 8,
   "id": "d3c938da",
   "metadata": {},
   "outputs": [],
   "source": [
    "a= B()"
   ]
  },
  {
   "cell_type": "code",
   "execution_count": 9,
   "id": "5d52ea66",
   "metadata": {},
   "outputs": [
    {
     "name": "stdout",
     "output_type": "stream",
     "text": [
      "100\n"
     ]
    }
   ],
   "source": [
    "a.m1()"
   ]
  },
  {
   "cell_type": "code",
   "execution_count": 11,
   "id": "85e92c01",
   "metadata": {},
   "outputs": [
    {
     "name": "stdout",
     "output_type": "stream",
     "text": [
      "100\n"
     ]
    }
   ],
   "source": [
    "a.m()"
   ]
  },
  {
   "cell_type": "code",
   "execution_count": 12,
   "id": "aae76784",
   "metadata": {},
   "outputs": [],
   "source": [
    "class A:\n",
    "    __data= 100\n",
    "    def m(self):   #private specifier\n",
    "        print(self.__data)\n",
    "class B(A):\n",
    "    def m1(self):\n",
    "        print(self.__data)"
   ]
  },
  {
   "cell_type": "code",
   "execution_count": 15,
   "id": "6e225e55",
   "metadata": {},
   "outputs": [],
   "source": [
    "a= A()"
   ]
  },
  {
   "cell_type": "code",
   "execution_count": 17,
   "id": "4f412337",
   "metadata": {},
   "outputs": [
    {
     "name": "stdout",
     "output_type": "stream",
     "text": [
      "100\n"
     ]
    }
   ],
   "source": [
    "a.m()"
   ]
  },
  {
   "cell_type": "markdown",
   "id": "9b8e3f9c",
   "metadata": {},
   "source": [
    "### Name Mangling\n",
    "\n",
    "* using this method we can access private attributes/methods\n",
    " - It should start with atleast two underscore and shoud atmost end with one underscore.\n",
    " - ex: __classname_,______classname,__classname_"
   ]
  },
  {
   "cell_type": "code",
   "execution_count": 21,
   "id": "cef48d75",
   "metadata": {},
   "outputs": [],
   "source": [
    "class ATM:\n",
    "    __amount= 10000000\n",
    "    def am(self):\n",
    "        print(self.amount)\n",
    "class user(ATM):\n",
    "    bal= 200000\n",
    "    def account(self):\n",
    "        print(self.bal)\n",
    "        \n",
    "    def getATMamount(self):\n",
    "        print(self._ATM__amount)\n",
    "    "
   ]
  },
  {
   "cell_type": "code",
   "execution_count": 22,
   "id": "51ff82ff",
   "metadata": {},
   "outputs": [],
   "source": [
    "u= user()"
   ]
  },
  {
   "cell_type": "code",
   "execution_count": 23,
   "id": "51acc40b",
   "metadata": {},
   "outputs": [
    {
     "name": "stdout",
     "output_type": "stream",
     "text": [
      "10000000\n"
     ]
    }
   ],
   "source": [
    "u.getATMamount()"
   ]
  },
  {
   "cell_type": "markdown",
   "id": "7d72a8f5",
   "metadata": {},
   "source": [
    "### Abstraction\n",
    "\n",
    "* "
   ]
  },
  {
   "cell_type": "code",
   "execution_count": 24,
   "id": "d74bdb9f",
   "metadata": {},
   "outputs": [],
   "source": [
    "from abc import ABC,abstractmethod"
   ]
  },
  {
   "cell_type": "code",
   "execution_count": 30,
   "id": "3cb2891f",
   "metadata": {},
   "outputs": [],
   "source": [
    "class ATM(ABC):\n",
    "    \n",
    "    __amount= 10000000\n",
    "    \n",
    "    @abstractmethod\n",
    "    def deposit(self):\n",
    "        print(\"deposit is being processed\")\n",
    "        \n",
    "    @abstractmethod\n",
    "    def transfer(self):\n",
    "        print(\"transfer is going on\")\n",
    "        \n",
    "class user(ATM):\n",
    "    bal= 200000\n",
    "    def account(self):\n",
    "        print(self.bal)"
   ]
  },
  {
   "cell_type": "code",
   "execution_count": 32,
   "id": "922eca16",
   "metadata": {},
   "outputs": [
    {
     "name": "stdout",
     "output_type": "stream",
     "text": [
      "User don't have the access\n"
     ]
    }
   ],
   "source": [
    "try:\n",
    "    a= user()\n",
    "except TypeError:\n",
    "    print(\"User don't have the access\")"
   ]
  },
  {
   "cell_type": "code",
   "execution_count": 28,
   "id": "8bbc3f4b",
   "metadata": {},
   "outputs": [
    {
     "name": "stdout",
     "output_type": "stream",
     "text": [
      "deposit is being processed\n"
     ]
    }
   ],
   "source": [
    "a.deposit()"
   ]
  },
  {
   "cell_type": "code",
   "execution_count": 29,
   "id": "5c981af8",
   "metadata": {},
   "outputs": [
    {
     "name": "stdout",
     "output_type": "stream",
     "text": [
      "transfer is going on\n"
     ]
    }
   ],
   "source": [
    "a.transfer()"
   ]
  },
  {
   "cell_type": "code",
   "execution_count": null,
   "id": "18ed7665",
   "metadata": {},
   "outputs": [],
   "source": []
  },
  {
   "cell_type": "markdown",
   "id": "1fd29433",
   "metadata": {},
   "source": [
    "In the class there are students rajesh,ramesh,suresh,prakash,mahesh,Nagesh\n",
    "who got marks (76,86,90),(99,23,45),(27,87,65),(12,42,22),(14,76,88),(92,48,89) \n",
    "respectively in maths ,physics and chemistry.\n",
    "\n",
    "Write the python code to find\n",
    "\n",
    "What is the average marks of total class?\n",
    "What is the highest marks suresh got ?\n",
    "what is the lowest marks of rajesh?\n",
    "Total marks of mahesh ?"
   ]
  },
  {
   "cell_type": "code",
   "execution_count": 17,
   "id": "29f37e15",
   "metadata": {},
   "outputs": [
    {
     "data": {
      "text/plain": [
       "60.05555555555555"
      ]
     },
     "execution_count": 17,
     "metadata": {},
     "output_type": "execute_result"
    }
   ],
   "source": [
    "students= {\"rajesh\":(76,86,90),\"ramesh\":(99,23,45),\"suresh\":(27,87,65),\"prakash\":(12,42,22),\"mahesh\":(14,76,88),\"Nagesh\":(92,48,89)}\n",
    "list1=[]\n",
    "for i in students.keys():\n",
    "    a= len(i)\n",
    "    list1.append(sum(students[i])/3)\n",
    "average= sum(list1)/a\n",
    "average"
   ]
  },
  {
   "cell_type": "code",
   "execution_count": 18,
   "id": "874ebf6d",
   "metadata": {},
   "outputs": [
    {
     "data": {
      "text/plain": [
       "[84.0,\n",
       " 55.666666666666664,\n",
       " 59.666666666666664,\n",
       " 25.333333333333332,\n",
       " 59.333333333333336,\n",
       " 76.33333333333333]"
      ]
     },
     "execution_count": 18,
     "metadata": {},
     "output_type": "execute_result"
    }
   ],
   "source": [
    "list1"
   ]
  },
  {
   "cell_type": "code",
   "execution_count": 19,
   "id": "ef82246f",
   "metadata": {},
   "outputs": [
    {
     "data": {
      "text/plain": [
       "59.333333333333336"
      ]
     },
     "execution_count": 19,
     "metadata": {},
     "output_type": "execute_result"
    }
   ],
   "source": [
    "list1[4]"
   ]
  },
  {
   "cell_type": "code",
   "execution_count": 15,
   "id": "14400fd4",
   "metadata": {},
   "outputs": [
    {
     "data": {
      "text/plain": [
       "87"
      ]
     },
     "execution_count": 15,
     "metadata": {},
     "output_type": "execute_result"
    }
   ],
   "source": [
    "max(students[\"suresh\"])"
   ]
  },
  {
   "cell_type": "code",
   "execution_count": 16,
   "id": "c2f285c9",
   "metadata": {},
   "outputs": [
    {
     "data": {
      "text/plain": [
       "76"
      ]
     },
     "execution_count": 16,
     "metadata": {},
     "output_type": "execute_result"
    }
   ],
   "source": [
    "min(students[\"rajesh\"])"
   ]
  },
  {
   "cell_type": "code",
   "execution_count": null,
   "id": "f6ef6acc",
   "metadata": {},
   "outputs": [],
   "source": []
  }
 ],
 "metadata": {
  "kernelspec": {
   "display_name": "Python 3 (ipykernel)",
   "language": "python",
   "name": "python3"
  },
  "language_info": {
   "codemirror_mode": {
    "name": "ipython",
    "version": 3
   },
   "file_extension": ".py",
   "mimetype": "text/x-python",
   "name": "python",
   "nbconvert_exporter": "python",
   "pygments_lexer": "ipython3",
   "version": "3.11.4"
  }
 },
 "nbformat": 4,
 "nbformat_minor": 5
}
